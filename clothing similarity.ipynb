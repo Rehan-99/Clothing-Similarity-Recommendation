{
 "cells": [
  {
   "cell_type": "markdown",
   "id": "7f5c98b5",
   "metadata": {},
   "source": [
    "### Importing Necessary libraries"
   ]
  },
  {
   "cell_type": "code",
   "execution_count": 17,
   "id": "859121fa",
   "metadata": {},
   "outputs": [],
   "source": [
    "import pandas as pd\n",
    "import numpy as np\n",
    "import gensim\n",
    "from gensim.parsing.preprocessing import preprocess_documents\n",
    "from gensim.models.doc2vec import Doc2Vec, TaggedDocument\n",
    "import nltk\n",
    "from nltk.tokenize import word_tokenize\n",
    "from nltk.corpus import stopwords\n",
    "import re\n",
    "import time\n",
    "from selenium import webdriver\n",
    "from bs4 import BeautifulSoup\n",
    "from urllib.parse import urljoin\n",
    "import pandas as pd\n"
   ]
  },
  {
   "cell_type": "markdown",
   "id": "4c2306f3",
   "metadata": {},
   "source": [
    "### Scraping the data from NIKE website"
   ]
  },
  {
   "cell_type": "code",
   "execution_count": null,
   "id": "20e78f0c",
   "metadata": {},
   "outputs": [],
   "source": [
    "description=[]\n",
    "link=[]\n",
    "url = ['https://www.nike.com/in/w/mens-tops-t-shirts-9om13znik1', \n",
    "       'https://www.nike.com/in/w/womens-tops-t-shirts-5e1x6z9om13',\n",
    "      'https://www.nike.com/in/w/hoodies-sweatshirts-5e1x6z6riveznik1', \n",
    "       'https://www.nike.com/in/w/jackets-gilets-50r7yz5e1x6znik1',\n",
    "      'https://www.nike.com/in/w/shorts-38fphz5e1x6znik1',\n",
    "      'https://www.nike.com/in/w/trousers-tights-2kq19z5e1x6znik1',\n",
    "      'https://www.nike.com/in/w/womens-skirts-dresses-5e1x6z8y3qp',\n",
    "      'https://www.nike.com/in/w/womens-modest-wear-22fj5z5e1x6',\n",
    "      'https://www.nike.com/in/w/womens-back-to-basics-5e1x6zkkjj']\n",
    "##### Web scrapper for infinite scrolling page #####\n",
    "for j in url:\n",
    "    driver = webdriver.Chrome(executable_path=r\"C:\\Users\\Rehan Shaikh\\Downloads\\chrome driver\\chromedriver.exe\")\n",
    "    driver.get(j)\n",
    "    time.sleep(2)  # Allow 2 seconds for the web page to open\n",
    "    scroll_pause_time = 1 # You can set your own pause time. My laptop is a bit slow so I use 1 sec\n",
    "    screen_height = driver.execute_script(\"return window.screen.height;\")   # get the screen height of the web\n",
    "    i = 1\n",
    "\n",
    "    while True:\n",
    "        # scroll one screen height each time\n",
    "        driver.execute_script(\"window.scrollTo(0, {screen_height}*{i});\".format(screen_height=screen_height, i=i))  \n",
    "        i += 1\n",
    "        time.sleep(scroll_pause_time)\n",
    "        # update scroll height each time after scrolled, as the scroll height can change after we scrolled the page\n",
    "        scroll_height = driver.execute_script(\"return document.body.scrollHeight;\")  \n",
    "        # Break the loop when the height we need to scroll to is larger than the total scroll height\n",
    "        if (screen_height) * i > scroll_height:\n",
    "            break \n",
    "\n",
    "    ##### Extract DATA  #####\n",
    "\n",
    "    soup = BeautifulSoup(driver.page_source, \"html.parser\")\n",
    "    description += [i.text for i  in soup.find_all('div',class_=\"product-card__subtitle\")]\n",
    "    link += [a_tag['href'] for a_tag in soup.find_all('a',class_ = 'product-card__img-link-overlay')]\n",
    "data = {\"description\":description,\"product_link\":link}\n",
    "df = pd.DataFrame(data)\n",
    "df_final.to_csv('nike.csv',index=False)\n"
   ]
  },
  {
   "cell_type": "markdown",
   "id": "0d3d9b53",
   "metadata": {},
   "source": [
    "### Scraping the data from LEVI's website"
   ]
  },
  {
   "cell_type": "code",
   "execution_count": 78,
   "id": "f08120dc",
   "metadata": {},
   "outputs": [
    {
     "name": "stdout",
     "output_type": "stream",
     "text": [
      "<Response [200]>\n",
      "<Response [200]>\n",
      "<Response [200]>\n",
      "<Response [200]>\n",
      "<Response [200]>\n",
      "<Response [200]>\n",
      "<Response [200]>\n",
      "<Response [200]>\n",
      "<Response [200]>\n",
      "<Response [200]>\n",
      "<Response [200]>\n",
      "<Response [200]>\n",
      "<Response [200]>\n"
     ]
    },
    {
     "data": {
      "text/plain": [
       "(2789, 2)"
      ]
     },
     "execution_count": 78,
     "metadata": {},
     "output_type": "execute_result"
    }
   ],
   "source": [
    "import requests\n",
    "from bs4 import BeautifulSoup as bs\n",
    "import pandas as pd\n",
    "# URL of the Levis men's and women's clothing section\n",
    "url = ['https://www.levi.in/men/clothing/t-shirts-polos?prefn1=items_type&prefv1=Polos%7CT-Shirts&sz=482',\n",
    "      'https://www.levi.in/men/clothing/pants?sz=118',\n",
    "      'https://www.levi.in/men/clothing/shorts?sz=57',\n",
    "      'https://www.levi.in/men/clothing/jackets?sz=72',\n",
    "      'https://www.levi.in/men/clothing/shirts?sz=504',\n",
    "      'https://www.levi.in/men/clothing/jeans?sz=612',\n",
    "      'https://www.levi.in/women/clothing/jeans?sz=569',\n",
    "      'https://www.levi.in/women/clothing/t-shirts-tops?sz=255',\n",
    "      'https://www.levi.in/women/clothing/shirts?sz=32',\n",
    "      'https://www.levi.in/women/clothing/jackets?start=18&sz=18',\n",
    "      'https://www.levi.in/women/clothing/shorts-skirts?start=18&sz=18',\n",
    "      'https://www.levi.in/women/clothing/dresses-jumpsuits?sz=31',\n",
    "      'https://www.levi.in/women/clothing/pants?sz=36']\n",
    "\n",
    "\n",
    "# Send a GET request to the website\n",
    "\n",
    "title=[]\n",
    "description=[]\n",
    "link=[]\n",
    "for j in url:\n",
    "    response = requests.get(j)\n",
    "    print(response)\n",
    "    soup = bs(response.text)\n",
    "    description += [i.text.strip('\\n') for i  in soup.find_all('a',attrs={'class': 'name-link'})]\n",
    "    homepage = 'https://www.levi.in'\n",
    "    link += [homepage+a_tag['href']for a_tag in soup.find_all('a',attrs={'class': 'name-link'})]\n",
    "data1 = {\"description\":description,\"product_link\":link}\n",
    "df_levis = pd.DataFrame(data1)\n"
   ]
  },
  {
   "cell_type": "markdown",
   "id": "525076a2",
   "metadata": {},
   "source": [
    "#### Merging two dataframe "
   ]
  },
  {
   "cell_type": "code",
   "execution_count": 80,
   "id": "9cc12686",
   "metadata": {},
   "outputs": [
    {
     "data": {
      "text/plain": [
       "(1015, 2)"
      ]
     },
     "execution_count": 80,
     "metadata": {},
     "output_type": "execute_result"
    }
   ],
   "source": [
    "df_nike = pd.read_csv('nike.csv')\n",
    "df_nike.shape"
   ]
  },
  {
   "cell_type": "code",
   "execution_count": 81,
   "id": "1a2bacf6",
   "metadata": {},
   "outputs": [],
   "source": [
    "cs = df_nike.append(df_levis)\n",
    "cs.to_csv('clothing_similarity.csv',index=False)"
   ]
  },
  {
   "cell_type": "code",
   "execution_count": 82,
   "id": "b40cfb35",
   "metadata": {},
   "outputs": [
    {
     "data": {
      "text/html": [
       "<div>\n",
       "<style scoped>\n",
       "    .dataframe tbody tr th:only-of-type {\n",
       "        vertical-align: middle;\n",
       "    }\n",
       "\n",
       "    .dataframe tbody tr th {\n",
       "        vertical-align: top;\n",
       "    }\n",
       "\n",
       "    .dataframe thead th {\n",
       "        text-align: right;\n",
       "    }\n",
       "</style>\n",
       "<table border=\"1\" class=\"dataframe\">\n",
       "  <thead>\n",
       "    <tr style=\"text-align: right;\">\n",
       "      <th></th>\n",
       "      <th>description</th>\n",
       "      <th>product_link</th>\n",
       "    </tr>\n",
       "  </thead>\n",
       "  <tbody>\n",
       "    <tr>\n",
       "      <th>0</th>\n",
       "      <td>Men's Max90 T-Shirt</td>\n",
       "      <td>https://www.nike.com/in/t/sportswear-max90-t-s...</td>\n",
       "    </tr>\n",
       "    <tr>\n",
       "      <th>1</th>\n",
       "      <td>Men's Fitness Tank</td>\n",
       "      <td>https://www.nike.com/in/t/dri-fit-adv-aps-fitn...</td>\n",
       "    </tr>\n",
       "    <tr>\n",
       "      <th>2</th>\n",
       "      <td>Short-Sleeve Button-Down Top</td>\n",
       "      <td>https://www.nike.com/in/t/naomi-osaka-short-sl...</td>\n",
       "    </tr>\n",
       "    <tr>\n",
       "      <th>3</th>\n",
       "      <td>Men's Basketball T-shirt</td>\n",
       "      <td>https://www.nike.com/in/t/dri-fit-basketball-t...</td>\n",
       "    </tr>\n",
       "    <tr>\n",
       "      <th>4</th>\n",
       "      <td>Men's Nike Dri-FIT Mesh Basketball Jersey</td>\n",
       "      <td>https://www.nike.com/in/t/kevin-durant-dri-fit...</td>\n",
       "    </tr>\n",
       "  </tbody>\n",
       "</table>\n",
       "</div>"
      ],
      "text/plain": [
       "                                 description  \\\n",
       "0                        Men's Max90 T-Shirt   \n",
       "1                         Men's Fitness Tank   \n",
       "2               Short-Sleeve Button-Down Top   \n",
       "3                   Men's Basketball T-shirt   \n",
       "4  Men's Nike Dri-FIT Mesh Basketball Jersey   \n",
       "\n",
       "                                        product_link  \n",
       "0  https://www.nike.com/in/t/sportswear-max90-t-s...  \n",
       "1  https://www.nike.com/in/t/dri-fit-adv-aps-fitn...  \n",
       "2  https://www.nike.com/in/t/naomi-osaka-short-sl...  \n",
       "3  https://www.nike.com/in/t/dri-fit-basketball-t...  \n",
       "4  https://www.nike.com/in/t/kevin-durant-dri-fit...  "
      ]
     },
     "execution_count": 82,
     "metadata": {},
     "output_type": "execute_result"
    }
   ],
   "source": [
    "df = pd.read_csv('clothing_similarity.csv')\n",
    "df.head()"
   ]
  },
  {
   "cell_type": "markdown",
   "id": "34dd9045",
   "metadata": {},
   "source": [
    "####  Preprocessing the data"
   ]
  },
  {
   "cell_type": "code",
   "execution_count": 83,
   "id": "80d1689a",
   "metadata": {},
   "outputs": [],
   "source": [
    "# Cleaning the description column \n",
    "def preprocess(string):\n",
    "    regex = re.compile(\"Levi's®\")\n",
    "    return regex.sub('',string).strip(' ')\n",
    "df_levis['description']=df_levis['description'].apply(preprocess)\n",
    "\n",
    "\n",
    "\n",
    "def preprocess_text(text):\n",
    "    # Convert to lowercase\n",
    "    text = text.lower()\n",
    "    \n",
    "    # Remove non-alphanumeric characters\n",
    "    text = re.sub(r'[^a-zA-Z0-9\\s]', '', text)\n",
    "    \n",
    "    # Tokenize text into words\n",
    "    tokens = word_tokenize(text)\n",
    "    \n",
    "    # Remove stopwords\n",
    "    stop_words = set(stopwords.words('english'))\n",
    "    tokens = [token for token in tokens if token not in stop_words]\n",
    "    \n",
    "    return tokens"
   ]
  },
  {
   "cell_type": "markdown",
   "id": "dcb9e697",
   "metadata": {},
   "source": [
    "## Building the model"
   ]
  },
  {
   "cell_type": "code",
   "execution_count": 89,
   "id": "eb56b20d",
   "metadata": {},
   "outputs": [
    {
     "name": "stdout",
     "output_type": "stream",
     "text": [
      "{'https://www.nike.com/in/t/epic-fast-mid-rise-running-leggings-L0MXcm/CZ9241-655': 0.8}\n",
      "{'https://www.nike.com/in/t/epic-fast-mid-rise-running-leggings-L0MXcm/CZ9241-655': 0.8}\n",
      "{'https://www.nike.com/in/t/epic-fast-mid-rise-running-leggings-L0MXcm/CZ9241-010': 0.8}\n",
      "{'https://www.nike.com/in/t/air-fast-mid-rise-7-8-running-leggings-drTS5J/DX0299-291': 0.65}\n",
      "{'https://www.nike.com/in/t/air-fast-mid-rise-7-8-running-leggings-drTS5J/DX0299-291': 0.65}\n"
     ]
    }
   ],
   "source": [
    "\n",
    "# Preprocess the text corpus\n",
    "text_corpus = df['description']\n",
    "processed_corpus = [preprocess_text(doc) for doc in text_corpus]\n",
    "\n",
    "# Create a dictionary of unique words in the corpus\n",
    "dictionary = gensim.corpora.Dictionary(processed_corpus)\n",
    "\n",
    "# Convert the corpus into Bag-of-Words representation\n",
    "bow_corpus = [dictionary.doc2bow(text) for text in processed_corpus]\n",
    "\n",
    "# Compute TF-IDF weights for the corpus\n",
    "tfidf = gensim.models.TfidfModel(bow_corpus, smartirs='npu')\n",
    "tfidf_corpus = tfidf[bow_corpus]\n",
    "\n",
    "# Build an index for similarity calculations\n",
    "index = gensim.similarities.MatrixSimilarity(tfidf_corpus)\n",
    "\n",
    "# Define the ranked_results function that accepts a text query and returns the ranked suggestions\n",
    "def ranked_results(text):\n",
    "    # Preprocess the new document/query\n",
    "    new_doc = preprocess_text(text)\n",
    "    \n",
    "    # Convert the preprocessed document to Bag-of-Words representation\n",
    "    new_vec = dictionary.doc2bow(new_doc)\n",
    "    \n",
    "    # Compute TF-IDF weights for the new document\n",
    "    vec_bow_tfidf = tfidf[new_vec]\n",
    "    \n",
    "    # Calculate similarities between the new document and the corpus\n",
    "    sims = index[vec_bow_tfidf]\n",
    "    \n",
    "    # Sort the similarities in descending order and select the top 5 results\n",
    "    sorted_sims = sorted(enumerate(sims), key=lambda item: -item[1])[:5]\n",
    "    \n",
    "    # Print the ranked results with their similarity scores\n",
    "    for idx, similarity in sorted_sims:\n",
    "        product_link = df['product_link'].iloc[idx]\n",
    "        print({product_link : round(similarity,2)})\n",
    "\n",
    "# Calling the ranked_results function with a sample text query\n",
    "ranked_results(\"womens running leggings\")\n"
   ]
  },
  {
   "cell_type": "code",
   "execution_count": null,
   "id": "edc29bb1",
   "metadata": {},
   "outputs": [],
   "source": []
  }
 ],
 "metadata": {
  "kernelspec": {
   "display_name": "Python 3 (ipykernel)",
   "language": "python",
   "name": "python3"
  },
  "language_info": {
   "codemirror_mode": {
    "name": "ipython",
    "version": 3
   },
   "file_extension": ".py",
   "mimetype": "text/x-python",
   "name": "python",
   "nbconvert_exporter": "python",
   "pygments_lexer": "ipython3",
   "version": "3.10.8"
  }
 },
 "nbformat": 4,
 "nbformat_minor": 5
}
